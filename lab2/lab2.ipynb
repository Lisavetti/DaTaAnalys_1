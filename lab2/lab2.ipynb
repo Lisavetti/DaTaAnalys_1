import pandas as pd
import matplotlib.pyplot as plt
from sklearn.decomposition import PCA
from sklearn.manifold import TSNE
from sklearn.preprocessing import LabelEncoder

from time import time
import numpy as np
from sklearn.cluster import KMeans
from sklearn.datasets import load_sample_image
from sklearn.metrics import pairwise_distances_argmin
from sklearn.utils import shuffle
import imageio


from sklearn.ensemble import RandomForestClassifier
from wordcloud import WordCloud
from sklearn.feature_extraction.text import TfidfVectorizer
from sklearn.model_selection import train_test_split
from sklearn.linear_model import LogisticRegression
from sklearn.metrics import classification_report, accuracy_score, confusion_matrix
import string
import nltk
from nltk.corpus import stopwords
from sklearn.naive_bayes import MultinomialNB
from sklearn import metrics

df = pd.read_csv('fraud_dataset.csv')

df = df.drop(columns=['transaction_id'])

le = LabelEncoder()
for column in ['location', 'merchant', 'gender']:
    df[column] = le.fit_transform(df[column])

X = df.drop('fraud_label', axis=1)
y = df['fraud_label']

pca = PCA(n_components=2)
X_pca = pca.fit_transform(X)

tsne = TSNE(n_components=2, random_state=0)
X_tsne = tsne.fit_transform(X)

fig, ax = plt.subplots(1, 2, figsize=(15, 7))

scatter = ax[0].scatter(X_pca[:, 0], X_pca[:, 1], c=y, cmap='jet', edgecolor='k')
ax[0].set_title("PCA")
legend1 = ax[0].legend(*scatter.legend_elements(), loc="upper right", title="Classes")
ax[0].add_artist(legend1)

scatter = ax[1].scatter(X_tsne[:, 0], X_tsne[:, 1], c=y, cmap='jet', edgecolor='k')
ax[1].set_title("t-SNE")
legend2 = ax[1].legend(*scatter.legend_elements(), loc="upper right", title="Classes")
ax[1].add_artist(legend2)

plt.show()

